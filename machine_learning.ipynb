{
 "cells": [
  {
   "cell_type": "code",
   "execution_count": 77,
   "metadata": {},
   "outputs": [],
   "source": [
    "import sklearn\n",
    "from sklearn import tree,metrics\n",
    "from sklearn.metrics import accuracy_score\n",
    "from sklearn.neighbors import DistanceMetric\n",
    "from sklearn.ensemble import RandomForestClassifier\n",
    "from sklearn.preprocessing import scale\n",
    "from sklearn.model_selection import train_test_split\n",
    "# from sklearn.metrics import r2_score, f1_score\n",
    "from sklearn.cluster import KMeans, AgglomerativeClustering\n",
    "from sklearn.neighbors import NearestNeighbors\n",
    "from sklearn.linear_model import LinearRegression\n",
    "from sklearn import linear_model, metrics, preprocessing\n",
    "from sklearn import linear_model\n",
    "from sklearn.metrics import mean_squared_error, r2_score\n",
    "from sklearn.model_selection import cross_val_score\n",
    "from sklearn.neighbors import KNeighborsClassifier\n",
    "from sklearn.model_selection import train_test_split\n",
    "from sklearn.metrics import accuracy_score, precision_score, recall_score, f1_score\n",
    "from sklearn.impute import SimpleImputer\n",
    "\n",
    "\n",
    "import pydotplus\n",
    "import collections\n",
    "import graphviz\n",
    "import seaborn as sns\n",
    "import pandas as pd\n",
    "import numpy as np"
   ]
  },
  {
   "cell_type": "code",
   "execution_count": 78,
   "metadata": {},
   "outputs": [],
   "source": [
    "### fun to load the df ,target column\n",
    "def load_dataset(file_name, label_column):\n",
    "    df = pd.read_csv(file_name)\n",
    "    TRAINING_FEATURES = df.columns[df.columns != label_column]\n",
    "    TARGET_FEATURE    = label_column\n",
    "\n",
    "    X = df[TRAINING_FEATURES]\n",
    "    y = df[TARGET_FEATURE]\n",
    "    return X, y"
   ]
  },
  {
   "cell_type": "code",
   "execution_count": null,
   "metadata": {},
   "outputs": [],
   "source": []
  },
  {
   "cell_type": "code",
   "execution_count": 79,
   "metadata": {},
   "outputs": [
    {
     "name": "stdout",
     "output_type": "stream",
     "text": [
      "==============================================\n",
      "0       4.5\n",
      "1       4.5\n",
      "2       4.5\n",
      "3       4.5\n",
      "4       4.0\n",
      "       ... \n",
      "1125    4.0\n",
      "1126    4.0\n",
      "1127    4.0\n",
      "1128    4.0\n",
      "1129    4.0\n",
      "Name: Rating, Length: 1130, dtype: float64\n"
     ]
    },
    {
     "data": {
      "text/plain": [
       "((791, 24), (339, 24))"
      ]
     },
     "execution_count": 79,
     "metadata": {},
     "output_type": "execute_result"
    }
   ],
   "source": [
    "###df_y=target column\n",
    "df_X,df_y=load_dataset('Data Science Project - masterclean.csv','Rating')\n",
    "df_X=scale(df_X)\n",
    "\n",
    "print(\"==============================================\")\n",
    "print(df_y)\n",
    "X_train,X_test,y_train,y_test=train_test_split(df_X,df_y,test_size=0.3, random_state=50)\n",
    "X_train.shape, X_test.shape"
   ]
  },
  {
   "cell_type": "code",
   "execution_count": 80,
   "metadata": {},
   "outputs": [],
   "source": [
    "df_X=pd.DataFrame(df_X)"
   ]
  },
  {
   "cell_type": "code",
   "execution_count": 81,
   "metadata": {},
   "outputs": [
    {
     "name": "stdout",
     "output_type": "stream",
     "text": [
      "<class 'pandas.core.frame.DataFrame'>\n"
     ]
    }
   ],
   "source": [
    "df_y=pd.DataFrame(df_y)\n",
    "print(type(df_y))"
   ]
  },
  {
   "cell_type": "code",
   "execution_count": 82,
   "metadata": {},
   "outputs": [
    {
     "name": "stdout",
     "output_type": "stream",
     "text": [
      "Mean squared error on train data: 0.13\n",
      "Mean squared error on test data: 0.12\n",
      "R^2 score on train data: 0.03\n",
      "R^2 score on test data: -0.06\n"
     ]
    }
   ],
   "source": [
    "\n",
    "# fit the model on the training data\n",
    "trained_model = linear_model.LinearRegression().fit(X_train, y_train)\n",
    "\n",
    "# predict on the training and test data\n",
    "y_pred_train = trained_model.predict(X_train)\n",
    "y_pred_test = trained_model.predict(X_test)\n",
    "\n",
    "# evaluate the performance of the model\n",
    "mse_train = mean_squared_error(y_train, y_pred_train)\n",
    "mse_test = mean_squared_error(y_test, y_pred_test)\n",
    "\n",
    "r2_train = r2_score(y_train, y_pred_train)\n",
    "r2_test = r2_score(y_test, y_pred_test)\n",
    "### as we can see the correlation is vary low in all models\n",
    "print(\"Mean squared error on train data: {:.2f}\".format(mse_train))\n",
    "print(\"Mean squared error on test data: {:.2f}\".format(mse_test))\n",
    "print(\"R^2 score on train data: {:.2f}\".format(r2_train))\n",
    "print(\"R^2 score on test data: {:.2f}\".format(r2_test))\n"
   ]
  },
  {
   "cell_type": "code",
   "execution_count": 83,
   "metadata": {},
   "outputs": [
    {
     "name": "stdout",
     "output_type": "stream",
     "text": [
      "Test score: 0.056757186022171724\n",
      "Cross-validation scores: [-0.15060774 -0.14537576 -0.07834077 -0.24131182 -0.11970912]\n",
      "Mean of cross-validation scores: -0.1470690418349117\n",
      "Standard deviation of cross-validation scores:: 0.0536082688427717\n"
     ]
    }
   ],
   "source": [
    "model = LinearRegression()\n",
    "X_train, X_test, y_train, y_test = train_test_split(df_X, df_y, test_size=0.2, random_state=42) # reducing test_size to 0.1\n",
    "model.fit(df_X,df_y)\n",
    "\n",
    "scores = cross_val_score(model, df_X, df_y, cv=5)\n",
    "score = model.score(X_test, y_test)\n",
    "y_pred = model.predict(X_test)\n",
    "\n",
    "print(\"Test score:\", score)\n",
    "print(\"Cross-validation scores:\", scores)\n",
    "print(\"Mean of cross-validation scores:\" ,scores.mean())\n",
    "print(\"Standard deviation of cross-validation scores::\" ,scores.std())\n",
    "###cross-validation also low,Mean squared error  was the stronger but doset say any."
   ]
  },
  {
   "cell_type": "code",
   "execution_count": null,
   "metadata": {},
   "outputs": [],
   "source": [
    "\n"
   ]
  },
  {
   "cell_type": "code",
   "execution_count": null,
   "metadata": {},
   "outputs": [],
   "source": []
  },
  {
   "cell_type": "code",
   "execution_count": null,
   "metadata": {},
   "outputs": [],
   "source": []
  }
 ],
 "metadata": {
  "kernelspec": {
   "display_name": "Python 3",
   "language": "python",
   "name": "python3"
  },
  "language_info": {
   "codemirror_mode": {
    "name": "ipython",
    "version": 3
   },
   "file_extension": ".py",
   "mimetype": "text/x-python",
   "name": "python",
   "nbconvert_exporter": "python",
   "pygments_lexer": "ipython3",
   "version": "3.10.5"
  },
  "orig_nbformat": 4,
  "vscode": {
   "interpreter": {
    "hash": "afb734500600fd355917ca529030176ea0ca205570884b88f2f6f7d791fd3fbe"
   }
  }
 },
 "nbformat": 4,
 "nbformat_minor": 2
}
